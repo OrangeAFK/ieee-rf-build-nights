{
 "cells": [
  {
   "cell_type": "code",
   "execution_count": 1,
   "id": "23a25088",
   "metadata": {
    "execution": {
     "iopub.execute_input": "2025-10-11T18:12:46.304632Z",
     "iopub.status.busy": "2025-10-11T18:12:46.304232Z",
     "iopub.status.idle": "2025-10-11T18:12:46.311774Z",
     "shell.execute_reply": "2025-10-11T18:12:46.310906Z"
    },
    "papermill": {
     "duration": 0.012368,
     "end_time": "2025-10-11T18:12:46.313288",
     "exception": false,
     "start_time": "2025-10-11T18:12:46.300920",
     "status": "completed"
    },
    "tags": []
   },
   "outputs": [],
   "source": [
    "import numpy as np\n",
    "import matplotlib.pyplot as plt"
   ]
  },
  {
   "cell_type": "code",
   "execution_count": 2,
   "id": "ca12d7f5",
   "metadata": {
    "execution": {
     "iopub.execute_input": "2025-10-11T18:12:46.318142Z",
     "iopub.status.busy": "2025-10-11T18:12:46.317824Z",
     "iopub.status.idle": "2025-10-11T18:12:46.334775Z",
     "shell.execute_reply": "2025-10-11T18:12:46.333742Z"
    },
    "papermill": {
     "duration": 0.021096,
     "end_time": "2025-10-11T18:12:46.336552",
     "exception": false,
     "start_time": "2025-10-11T18:12:46.315456",
     "status": "completed"
    },
    "tags": []
   },
   "outputs": [],
   "source": [
    "num_symbols = 1000\n",
    "x_int = np.random.randint(0, 4, num_symbols)\n",
    "x_degrees = x_int*360/4.0 + 45\n",
    "x_radians = x_degrees * np.pi / 180.0\n",
    "x_symbols = np.cos(x_radians) + 1j*np.sin(x_radians)"
   ]
  },
  {
   "cell_type": "code",
   "execution_count": 3,
   "id": "648c802c",
   "metadata": {
    "execution": {
     "iopub.execute_input": "2025-10-11T18:12:46.341633Z",
     "iopub.status.busy": "2025-10-11T18:12:46.340690Z",
     "iopub.status.idle": "2025-10-11T18:12:46.587110Z",
     "shell.execute_reply": "2025-10-11T18:12:46.585997Z"
    },
    "papermill": {
     "duration": 0.250592,
     "end_time": "2025-10-11T18:12:46.588783",
     "exception": false,
     "start_time": "2025-10-11T18:12:46.338191",
     "status": "completed"
    },
    "tags": []
   },
   "outputs": [
    {
     "data": {
      "image/png": "[encoded data removed]",
      "text/plain": [
       "<Figure size 640x480 with 1 Axes>"
      ]
     },
     "metadata": {},
     "output_type": "display_data"
    }
   ],
   "source": [
    "plt.plot(np.real(x_symbols), np.imag(x_symbols), '.')\n",
    "plt.grid(True)\n",
    "plt.show()"
   ]
  }
 ],
 "metadata": {
  "kaggle": {
   "accelerator": "none",
   "dataSources": [],
   "dockerImageVersionId": 31153,
   "isGpuEnabled": false,
   "isInternetEnabled": true,
   "language": "python",
   "sourceType": "notebook"
  },
  "kernelspec": {
   "display_name": "Python 3",
   "language": "python",
   "name": "python3"
  },
  "language_info": {
   "codemirror_mode": {
    "name": "ipython",
    "version": 3
   },
   "file_extension": ".py",
   "mimetype": "text/x-python",
   "name": "python",
   "nbconvert_exporter": "python",
   "pygments_lexer": "ipython3",
   "version": "3.11.13"
  },
  "papermill": {
   "default_parameters": {},
   "duration": 5.773053,
   "end_time": "2025-10-11T18:12:47.010060",
   "environment_variables": {},
   "exception": null,
   "input_path": "__notebook__.ipynb",
   "output_path": "__notebook__.ipynb",
   "parameters": {},
   "start_time": "2025-10-11T18:12:41.237007",
   "version": "2.6.0"
  }
 },
 "nbformat": 4,
 "nbformat_minor": 5
}
